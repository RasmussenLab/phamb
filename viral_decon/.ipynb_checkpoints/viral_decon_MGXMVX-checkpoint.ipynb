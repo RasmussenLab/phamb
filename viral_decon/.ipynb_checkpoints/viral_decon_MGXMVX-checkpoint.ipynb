{
 "cells": [
  {
   "cell_type": "code",
   "execution_count": null,
   "metadata": {},
   "outputs": [],
   "source": []
  },
  {
   "cell_type": "code",
   "execution_count": 2,
   "metadata": {},
   "outputs": [
    {
     "ename": "ModuleNotFoundError",
     "evalue": "No module named 'sklearn'",
     "output_type": "error",
     "traceback": [
      "\u001b[0;31m---------------------------------------------------------------------------\u001b[0m",
      "\u001b[0;31mModuleNotFoundError\u001b[0m                       Traceback (most recent call last)",
      "\u001b[0;32m<ipython-input-2-e596de39df7f>\u001b[0m in \u001b[0;36m<module>\u001b[0;34m\u001b[0m\n\u001b[0;32m----> 1\u001b[0;31m \u001b[0;32mimport\u001b[0m \u001b[0msklearn\u001b[0m \u001b[0;32mas\u001b[0m \u001b[0msk\u001b[0m\u001b[0;34m\u001b[0m\u001b[0;34m\u001b[0m\u001b[0m\n\u001b[0m\u001b[1;32m      2\u001b[0m \u001b[0;32mfrom\u001b[0m \u001b[0msklearn\u001b[0m\u001b[0;34m.\u001b[0m\u001b[0mensemble\u001b[0m \u001b[0;32mimport\u001b[0m \u001b[0mRandomForestClassifier\u001b[0m\u001b[0;34m\u001b[0m\u001b[0;34m\u001b[0m\u001b[0m\n\u001b[1;32m      3\u001b[0m \u001b[0;32mfrom\u001b[0m \u001b[0msklearn\u001b[0m\u001b[0;34m.\u001b[0m\u001b[0mmodel_selection\u001b[0m \u001b[0;32mimport\u001b[0m \u001b[0mtrain_test_split\u001b[0m\u001b[0;34m\u001b[0m\u001b[0;34m\u001b[0m\u001b[0m\n\u001b[1;32m      4\u001b[0m \u001b[0;32mimport\u001b[0m \u001b[0mos\u001b[0m\u001b[0;34m\u001b[0m\u001b[0;34m\u001b[0m\u001b[0m\n\u001b[1;32m      5\u001b[0m \u001b[0;32mimport\u001b[0m \u001b[0mpandas\u001b[0m \u001b[0;32mas\u001b[0m \u001b[0mpd\u001b[0m\u001b[0;34m\u001b[0m\u001b[0;34m\u001b[0m\u001b[0m\n",
      "\u001b[0;31mModuleNotFoundError\u001b[0m: No module named 'sklearn'"
     ]
    }
   ],
   "source": [
    "\n",
    "import sklearn as sk\n",
    "from sklearn.ensemble import RandomForestClassifier\n",
    "from sklearn.model_selection import train_test_split\n",
    "import os\n",
    "import pandas as pd \n",
    "import numpy as np\n",
    "from sklearn.metrics import precision_score, recall_score, roc_auc_score, roc_curve, confusion_matrix\n",
    "from sklearn.metrics import precision_recall_curve\n",
    "from sklearn.metrics import f1_score\n",
    "from sklearn.metrics import auc\n",
    "from matplotlib import pyplot\n",
    "import seaborn as sns\n",
    "import joblib"
   ]
  },
  {
   "cell_type": "code",
   "execution_count": 284,
   "metadata": {},
   "outputs": [
    {
     "name": "stdout",
     "output_type": "stream",
     "text": [
      "joblib 0.16.0\n",
      "numpy 1.15.4\n",
      "pandas 0.23.4\n",
      "sklearn 0.20.1\n"
     ]
    }
   ],
   "source": [
    "print('joblib',joblib.__version__)\n",
    "print('numpy',np.__version__)\n",
    "print('pandas',pd.__version__)\n",
    "print('sklearn',sk.__version__)\n"
   ]
  },
  {
   "cell_type": "code",
   "execution_count": 2,
   "metadata": {},
   "outputs": [],
   "source": [
    "class bin_annotation:\n",
    "    def __init__(self,bin_name,motherbin):\n",
    "        self.motherbin = motherbin\n",
    "        self.bin_name = bin_name\n",
    "        self.ncontigs = None\n",
    "        self.binsize = 0\n"
   ]
  },
  {
   "cell_type": "code",
   "execution_count": 217,
   "metadata": {},
   "outputs": [],
   "source": [
    "def read_in_clusters(cluster_file):\n",
    "    \n",
    "    print('Reading in Clusters, this may take a while...')\n",
    "    binsannos = dict()\n",
    "    cls = dict()\n",
    "    with open(cluster_file,'r') as infile:\n",
    "        for line in infile:\n",
    "            line = line.strip().split('\\t')\n",
    "            cluster, contig = line[0],line[1]\n",
    "            sample = contig.split('_')[0]\n",
    "            binid = sample + '_' + cluster\n",
    "            if 'length' in contig:\n",
    "                contiglength = int(contig.split('length')[1].split('_')[1])\n",
    "\n",
    "\n",
    "            if binid not in binsannos:\n",
    "                binsannos[binid] = bin_annotation(binid,cluster)\n",
    "                binsannos[binid].ncontigs = 1\n",
    "                binsannos[binid].binsize += contiglength\n",
    "\n",
    "            else:\n",
    "                binsannos[binid].ncontigs += 1\n",
    "                binsannos[binid].binsize += contiglength\n",
    "\n",
    "            if contig not in cls:\n",
    "                cls[contig] = (cluster,binid)\n",
    "    return cls, binsannos\n",
    "\n",
    "\n",
    "def parse_MVX_hits(MVX_file,cls,binsannos,seqid=95,coverage = 0.5):\n",
    "    '''\n",
    "    Calculate How many Contigs in each bin with hits to IMGVR genomes\n",
    "    Also keep track of how covered each MVX contig is by MGX genomes\n",
    "    '''\n",
    "    \n",
    "    MVX_genomes_coverage = dict()\n",
    "    \n",
    "    bin_MVXhits = dict()\n",
    "    with open(MVX_file,'r') as infile:\n",
    "        for line in infile:\n",
    "            line = line.strip().split('\\t')\n",
    "            contig = line[0]\n",
    "            sequence_identity = float(line[2])\n",
    "            alignment_length = int(line[3])\n",
    "            MVX_genome = line[1]\n",
    "            MVX_genome_length = int(line[-1])\n",
    "            if contig in cls:\n",
    "                binid = cls[contig][1]\n",
    "\n",
    "                if sequence_identity >= seqid and alignment_length/MVX_genome_length >= coverage:\n",
    "                    \n",
    "                    if binid not in bin_MVXhits:\n",
    "                        bin_MVXhits[binid] = set([contig])\n",
    "                    else:\n",
    "                        bin_MVXhits[binid].add(contig)\n",
    "                        \n",
    "                    if MVX_genome not in MVX_genomes_coverage:\n",
    "                        MVX_genomes_coverage[MVX_genome] = np.zeros(MVX_genome_length)\n",
    "                    \n",
    "                    ref_from = int(line[7])\n",
    "                    ref_to = int(line[8])\n",
    "                    if ref_to > ref_from:\n",
    "                        MVX_genomes_coverage[MVX_genome][ref_from:ref_to] += 1\n",
    "                    else:\n",
    "                        MVX_genomes_coverage[MVX_genome][ref_to:ref_from] += 1\n",
    "    \n",
    "    for MVX_genome in MVX_genomes_coverage:\n",
    "        cov = MVX_genomes_coverage[MVX_genome]\n",
    "        covered = 1-(len(cov[cov==0])/len(cov))\n",
    "        MVX_genomes_coverage[MVX_genome] = covered\n",
    "        \n",
    "    MVX_genome_df = pd.DataFrame.from_dict(MVX_genomes_coverage, orient='index',columns=['coverage'])\n",
    "    \n",
    "    completeness_fact = {'LQ':25, 'MQ':50, 'NC':90}\n",
    "    completeness = []\n",
    "    for cov in MVX_genome_df['coverage']:\n",
    "        cov = cov*100\n",
    "        decision = 'NA'\n",
    "        for q in completeness_fact:\n",
    "            if cov >= completeness_fact[q]:\n",
    "                decision = q\n",
    "        completeness.append(decision)\n",
    "    \n",
    "    MVX_genome_df['Q'] = completeness\n",
    "\n",
    "    \n",
    "    \n",
    "    ### Summarise strong hits for each bin\n",
    "    bin_MVX_fraction = dict()\n",
    "    for binid in bin_MVXhits:\n",
    "        n_contigs = binsannos[binid].ncontigs\n",
    "        nhits = len(bin_MVXhits[binid])\n",
    "        bin_imgvr_fraction = nhits/n_contigs\n",
    "        bin_MVX_fraction[binid] = bin_imgvr_fraction\n",
    "\n",
    "    return bin_MVX_fraction, MVX_genome_df\n",
    "\n",
    "\n",
    "def prepare_train_test_set(vamb_bins_file,clusters_file, MVX_file,checkm_file):\n",
    "    vambbins_df = pd.read_csv(vamb_bins_file,sep='\\t')\n",
    "\n",
    "    ### Assign Bacterial Labels\n",
    "    LABEL = ['NA' for i in range(vambbins_df.shape[0])]\n",
    "\n",
    "    # Using CHECKM\n",
    "\n",
    "    MQNC_bins = set()\n",
    "    with open(checkm_file,'r') as infile:\n",
    "        for line in infile:\n",
    "            if line[0] =='-':\n",
    "                continue\n",
    "            elif 'Bin Id' in line:\n",
    "                continue\n",
    "            line = line.strip().split()\n",
    "            line = [line[0]]+[' '.join(line[1:3])] + line[3:]\n",
    "            binid = line[0]\n",
    "            completeness = float(line[-3])\n",
    "            contamination = float(line[-2])\n",
    "            if float(completeness) >= 25 and float(contamination) <= 10:\n",
    "                MQNC_bins.add(binid)\n",
    "\n",
    "    ### Bacterial first\n",
    "    for i,binid in enumerate(vambbins_df['binid']):\n",
    "        if binid in MQNC_bins:\n",
    "            LABEL[i] = 'Bacterial'\n",
    "    \n",
    "    ### Viral     \n",
    "    cls, binsannos = read_in_clusters(cluster_file = clusters_file)\n",
    "    bin_MVX_fraction,MVX_genome_df = parse_MVX_hits(MVX_file, cls, binsannos)\n",
    "    \n",
    "    nhallm_dict = dict(zip(vambbins_df.binid, vambbins_df.nhallm))\n",
    "    for i,binid in enumerate(vambbins_df['binid']):\n",
    "        if binid in bin_MVX_fraction:\n",
    "            mvx_score = bin_MVX_fraction[binid]\n",
    "            nhallm = nhallm_dict[binid]\n",
    "            if mvx_score >= 0.5 and int(nhallm) < 10:\n",
    "                LABEL[i] = 'Viral'\n",
    "\n",
    "    ### Remove all bins without an Annotation\n",
    "    vambbins_df['LABEL'] = LABEL\n",
    "\n",
    "    return vambbins_df,MVX_genome_df\n"
   ]
  },
  {
   "cell_type": "markdown",
   "metadata": {},
   "source": [
    "## Load Datasets\n",
    "\n",
    "Load Diabimmune for Evaluation"
   ]
  },
  {
   "cell_type": "code",
   "execution_count": 163,
   "metadata": {},
   "outputs": [
    {
     "name": "stdout",
     "output_type": "stream",
     "text": [
      "Reading in Clusters, this may take a while...\n"
     ]
    }
   ],
   "source": [
    "### Diabimmune\n",
    "\n",
    "vamb_bins_file = '../diabimu_t1d/04_annotation/annotation_summaries_new/vambbins_aggregated_annotation.txt'\n",
    "clusters_file = '../diabimu_t1d/05_binning/vamb_on_jgi_v3/clusters.tsv'\n",
    "MGX_MVX_blast = '../diabimu_t1d/06_blast_MGXMVX/MGX.2000.combined.diabimmune_viral_contigs.m6'\n",
    "checkm_file ='../diabimu_t1d/07_binannotation/bacteria/checkm/Diabimmune.output'\n",
    "diab_vambbins_df,MVX_genome_df = prepare_train_test_set(vamb_bins_file,clusters_file, MGX_MVX_blast,checkm_file)\n"
   ]
  },
  {
   "cell_type": "markdown",
   "metadata": {},
   "source": [
    "### How well are some MVX genomes covered by MGX contigs\n"
   ]
  },
  {
   "cell_type": "code",
   "execution_count": 165,
   "metadata": {},
   "outputs": [
    {
     "data": {
      "image/png": "[encoded data removed]",
      "text/plain": [
       "<Figure size 432x288 with 1 Axes>"
      ]
     },
     "metadata": {
      "needs_background": "light"
     },
     "output_type": "display_data"
    }
   ],
   "source": [
    "ax = sns.countplot(x=\"Q\", hue=\"Q\", data=MVX_genome_df)"
   ]
  },
  {
   "cell_type": "code",
   "execution_count": 220,
   "metadata": {},
   "outputs": [],
   "source": [
    "diab_vambbins_df = diab_vambbins_df[ diab_vambbins_df['LABEL'] != 'NA' ] \n",
    "evaluation_labels = np.array(diab_vambbins_df['LABEL'])\n",
    "diab_subset =  diab_vambbins_df[['binsize','nhallm','nVOGs','cluster_DVF_score']]\n",
    "\n"
   ]
  },
  {
   "cell_type": "code",
   "execution_count": 221,
   "metadata": {},
   "outputs": [
    {
     "data": {
      "text/plain": [
       "<matplotlib.axes._subplots.AxesSubplot at 0x1a47127ba8>"
      ]
     },
     "execution_count": 221,
     "metadata": {},
     "output_type": "execute_result"
    },
    {
     "data": {
      "image/png": "[encoded data removed]",
      "text/plain": [
       "<Figure size 432x288 with 1 Axes>"
      ]
     },
     "metadata": {
      "needs_background": "light"
     },
     "output_type": "display_data"
    }
   ],
   "source": [
    "sns.boxplot(x=\"LABEL\",y=\"nhallm\",data=diab_vambbins_df)"
   ]
  },
  {
   "cell_type": "code",
   "execution_count": 167,
   "metadata": {},
   "outputs": [
    {
     "data": {
      "image/png": "[encoded data removed]",
      "text/plain": [
       "<Figure size 432x288 with 1 Axes>"
      ]
     },
     "metadata": {
      "needs_background": "light"
     },
     "output_type": "display_data"
    }
   ],
   "source": [
    "ax = sns.countplot(x=\"LABEL\", data=diab_vambbins_df)"
   ]
  },
  {
   "cell_type": "code",
   "execution_count": 76,
   "metadata": {},
   "outputs": [
    {
     "data": {
      "text/html": [
       "<div>\n",
       "<style scoped>\n",
       "    .dataframe tbody tr th:only-of-type {\n",
       "        vertical-align: middle;\n",
       "    }\n",
       "\n",
       "    .dataframe tbody tr th {\n",
       "        vertical-align: top;\n",
       "    }\n",
       "\n",
       "    .dataframe thead th {\n",
       "        text-align: right;\n",
       "    }\n",
       "</style>\n",
       "<table border=\"1\" class=\"dataframe\">\n",
       "  <thead>\n",
       "    <tr style=\"text-align: right;\">\n",
       "      <th></th>\n",
       "      <th>binid</th>\n",
       "      <th>ncontigs</th>\n",
       "      <th>binsize</th>\n",
       "      <th>motherbin</th>\n",
       "      <th>nhallm</th>\n",
       "      <th>nVOGs</th>\n",
       "      <th>IMGVRhits_frac</th>\n",
       "      <th>bin_DVF_score</th>\n",
       "      <th>cluster_DVF_score</th>\n",
       "      <th>LABEL</th>\n",
       "    </tr>\n",
       "  </thead>\n",
       "  <tbody>\n",
       "    <tr>\n",
       "      <th>3</th>\n",
       "      <td>G45228_3</td>\n",
       "      <td>556</td>\n",
       "      <td>1715654</td>\n",
       "      <td>3</td>\n",
       "      <td>88</td>\n",
       "      <td>0.22</td>\n",
       "      <td>0.0</td>\n",
       "      <td>0.10</td>\n",
       "      <td>0.07</td>\n",
       "      <td>Bacterial</td>\n",
       "    </tr>\n",
       "    <tr>\n",
       "      <th>4</th>\n",
       "      <td>G45266_3</td>\n",
       "      <td>369</td>\n",
       "      <td>1035311</td>\n",
       "      <td>3</td>\n",
       "      <td>88</td>\n",
       "      <td>0.21</td>\n",
       "      <td>0.0</td>\n",
       "      <td>0.09</td>\n",
       "      <td>0.07</td>\n",
       "      <td>Bacterial</td>\n",
       "    </tr>\n",
       "    <tr>\n",
       "      <th>5</th>\n",
       "      <td>G45229_3</td>\n",
       "      <td>323</td>\n",
       "      <td>882877</td>\n",
       "      <td>3</td>\n",
       "      <td>88</td>\n",
       "      <td>0.20</td>\n",
       "      <td>0.0</td>\n",
       "      <td>0.07</td>\n",
       "      <td>0.07</td>\n",
       "      <td>Bacterial</td>\n",
       "    </tr>\n",
       "    <tr>\n",
       "      <th>15</th>\n",
       "      <td>G45051_3</td>\n",
       "      <td>1</td>\n",
       "      <td>2614</td>\n",
       "      <td>3</td>\n",
       "      <td>88</td>\n",
       "      <td>0.00</td>\n",
       "      <td>0.0</td>\n",
       "      <td>0.86</td>\n",
       "      <td>0.07</td>\n",
       "      <td>Viral</td>\n",
       "    </tr>\n",
       "    <tr>\n",
       "      <th>18</th>\n",
       "      <td>G45263_5</td>\n",
       "      <td>263</td>\n",
       "      <td>732338</td>\n",
       "      <td>5</td>\n",
       "      <td>70</td>\n",
       "      <td>0.28</td>\n",
       "      <td>0.0</td>\n",
       "      <td>0.00</td>\n",
       "      <td>0.00</td>\n",
       "      <td>Bacterial</td>\n",
       "    </tr>\n",
       "  </tbody>\n",
       "</table>\n",
       "</div>"
      ],
      "text/plain": [
       "       binid  ncontigs  binsize  motherbin  nhallm  nVOGs  IMGVRhits_frac  \\\n",
       "3   G45228_3       556  1715654          3      88   0.22             0.0   \n",
       "4   G45266_3       369  1035311          3      88   0.21             0.0   \n",
       "5   G45229_3       323   882877          3      88   0.20             0.0   \n",
       "15  G45051_3         1     2614          3      88   0.00             0.0   \n",
       "18  G45263_5       263   732338          5      70   0.28             0.0   \n",
       "\n",
       "    bin_DVF_score  cluster_DVF_score      LABEL  \n",
       "3            0.10               0.07  Bacterial  \n",
       "4            0.09               0.07  Bacterial  \n",
       "5            0.07               0.07  Bacterial  \n",
       "15           0.86               0.07      Viral  \n",
       "18           0.00               0.00  Bacterial  "
      ]
     },
     "execution_count": 76,
     "metadata": {},
     "output_type": "execute_result"
    }
   ],
   "source": [
    "diab_vambbins_df.head()"
   ]
  },
  {
   "cell_type": "code",
   "execution_count": null,
   "metadata": {},
   "outputs": [],
   "source": []
  },
  {
   "cell_type": "markdown",
   "metadata": {},
   "source": [
    "## Load COPSAC training and test set"
   ]
  },
  {
   "cell_type": "code",
   "execution_count": 171,
   "metadata": {},
   "outputs": [],
   "source": [
    "vamb_bins_file = '../COPSAC/04_annotation/annotation_summaries/vambbins_aggregated_annotation.txt'\n",
    "clusters_file = '../COPSAC/05_binning/vamb_on_jgi/COPSAC/clusters.tsv'\n",
    "MGX_MVX_blast = '../COPSAC/06_blast_MGXMVX/MGX.2000.copsac.assemblies.vOTUs.selected.m6'\n",
    "checkm_file ='../COPSAC/07_binannotation/bacteria/checkm/COPSAC.output'"
   ]
  },
  {
   "cell_type": "code",
   "execution_count": 172,
   "metadata": {},
   "outputs": [
    {
     "name": "stdout",
     "output_type": "stream",
     "text": [
      "Reading in Clusters, this may take a while...\n"
     ]
    }
   ],
   "source": [
    "vambbins_df,MVX_genome_df = prepare_train_test_set(vamb_bins_file,clusters_file, MGX_MVX_blast, checkm_file)"
   ]
  },
  {
   "cell_type": "code",
   "execution_count": 173,
   "metadata": {},
   "outputs": [],
   "source": [
    "copsac = vambbins_df[ vambbins_df['LABEL'] != 'NA' ]"
   ]
  },
  {
   "cell_type": "code",
   "execution_count": 222,
   "metadata": {},
   "outputs": [
    {
     "data": {
      "text/html": [
       "<div>\n",
       "<style scoped>\n",
       "    .dataframe tbody tr th:only-of-type {\n",
       "        vertical-align: middle;\n",
       "    }\n",
       "\n",
       "    .dataframe tbody tr th {\n",
       "        vertical-align: top;\n",
       "    }\n",
       "\n",
       "    .dataframe thead th {\n",
       "        text-align: right;\n",
       "    }\n",
       "</style>\n",
       "<table border=\"1\" class=\"dataframe\">\n",
       "  <thead>\n",
       "    <tr style=\"text-align: right;\">\n",
       "      <th></th>\n",
       "      <th>binsize</th>\n",
       "      <th>nhallm</th>\n",
       "      <th>nVOGs</th>\n",
       "      <th>cluster_DVF_score</th>\n",
       "    </tr>\n",
       "  </thead>\n",
       "  <tbody>\n",
       "    <tr>\n",
       "      <th>2</th>\n",
       "      <td>3920012</td>\n",
       "      <td>100</td>\n",
       "      <td>0.45</td>\n",
       "      <td>0.03</td>\n",
       "    </tr>\n",
       "    <tr>\n",
       "      <th>3</th>\n",
       "      <td>4062944</td>\n",
       "      <td>100</td>\n",
       "      <td>1.61</td>\n",
       "      <td>0.03</td>\n",
       "    </tr>\n",
       "    <tr>\n",
       "      <th>7</th>\n",
       "      <td>4336698</td>\n",
       "      <td>100</td>\n",
       "      <td>3.29</td>\n",
       "      <td>0.03</td>\n",
       "    </tr>\n",
       "    <tr>\n",
       "      <th>17</th>\n",
       "      <td>5331881</td>\n",
       "      <td>58</td>\n",
       "      <td>0.49</td>\n",
       "      <td>0.00</td>\n",
       "    </tr>\n",
       "    <tr>\n",
       "      <th>21</th>\n",
       "      <td>2747681</td>\n",
       "      <td>97</td>\n",
       "      <td>0.70</td>\n",
       "      <td>0.50</td>\n",
       "    </tr>\n",
       "  </tbody>\n",
       "</table>\n",
       "</div>"
      ],
      "text/plain": [
       "    binsize  nhallm  nVOGs  cluster_DVF_score\n",
       "2   3920012     100   0.45               0.03\n",
       "3   4062944     100   1.61               0.03\n",
       "7   4336698     100   3.29               0.03\n",
       "17  5331881      58   0.49               0.00\n",
       "21  2747681      97   0.70               0.50"
      ]
     },
     "execution_count": 222,
     "metadata": {},
     "output_type": "execute_result"
    }
   ],
   "source": [
    "labels = np.array(copsac['LABEL'])\n",
    "subset = copsac[['binsize','nhallm','nVOGs','cluster_DVF_score']]\n",
    "subset.head()"
   ]
  },
  {
   "cell_type": "code",
   "execution_count": 191,
   "metadata": {},
   "outputs": [
    {
     "name": "stdout",
     "output_type": "stream",
     "text": [
      "(8747, 10)\n",
      "(8747, 4)\n"
     ]
    }
   ],
   "source": [
    "print(copsac.shape)\n",
    "print(subset.shape)\n",
    "#copsac[copsac.LABEL=='Viral']\n"
   ]
  },
  {
   "cell_type": "code",
   "execution_count": 204,
   "metadata": {},
   "outputs": [
    {
     "data": {
      "text/plain": [
       "<matplotlib.axes._subplots.AxesSubplot at 0x1a2b1e4ba8>"
      ]
     },
     "execution_count": 204,
     "metadata": {},
     "output_type": "execute_result"
    },
    {
     "data": {
      "image/png": "[encoded data removed]",
      "text/plain": [
       "<Figure size 432x288 with 1 Axes>"
      ]
     },
     "metadata": {
      "needs_background": "light"
     },
     "output_type": "display_data"
    }
   ],
   "source": [
    "\n",
    "sns.countplot(x=\"LABEL\", data=copsac)"
   ]
  },
  {
   "cell_type": "code",
   "execution_count": 205,
   "metadata": {},
   "outputs": [
    {
     "data": {
      "text/plain": [
       "<matplotlib.axes._subplots.AxesSubplot at 0x1a478e9320>"
      ]
     },
     "execution_count": 205,
     "metadata": {},
     "output_type": "execute_result"
    },
    {
     "data": {
      "image/png": "[encoded data removed]",
      "text/plain": [
       "<Figure size 432x288 with 1 Axes>"
      ]
     },
     "metadata": {
      "needs_background": "light"
     },
     "output_type": "display_data"
    }
   ],
   "source": [
    "sns.boxplot(x=\"LABEL\",y=\"nhallm\",data=copsac)"
   ]
  },
  {
   "cell_type": "markdown",
   "metadata": {},
   "source": [
    "\n",
    "## Train Model using COPSAC\n"
   ]
  },
  {
   "cell_type": "code",
   "execution_count": 229,
   "metadata": {},
   "outputs": [],
   "source": [
    "def train_and_test_RF(model,train, test, train_labels, test_labels):\n",
    "\n",
    "    model.fit(train, train_labels)\n",
    "\n",
    "    train_predictions = model.predict(train)\n",
    "    train_probs = model.predict_proba(train)[:, 1]\n",
    "    print(f'Train ROC AUC Score: {roc_auc_score(train_labels, train_probs)}')\n",
    "\n",
    "\n",
    "    ### Test Set\n",
    "    predictions = model.predict(test)\n",
    "    probs = model.predict_proba(test)[:, 1]\n",
    "\n",
    "    print(f'Test ROC AUC Score: {roc_auc_score(predictions, probs)}')\n",
    "    return train_predictions,train_probs, predictions, probs, model\n",
    "\n",
    "def plot_precision_recall(predictions,probs,bin_test_labels):\n",
    "    \n",
    "    lr_precision, lr_recall, _ = precision_recall_curve(bin_test_labels, probs)\n",
    "    bin_predictions = np.where(predictions == 'Bacterial',0,1)\n",
    "    lr_f1, lr_auc = f1_score(bin_test_labels, bin_predictions), auc(lr_recall, lr_precision)\n",
    "    \n",
    "    # summarize scores\n",
    "    print('Logistic: f1=%.3f auc=%.3f' % (lr_f1, lr_auc))\n",
    "    # plot the precision-recall curves\n",
    "    no_skill = len(bin_test_labels[bin_test_labels==1]) / len(bin_test_labels)\n",
    "    pyplot.plot([0, 1], [no_skill, no_skill], linestyle='--', label='No Skill')\n",
    "    pyplot.plot(lr_recall, lr_precision, marker='.', label='RF-Model')\n",
    "    # axis labels\n",
    "    pyplot.xlabel('Recall')\n",
    "    pyplot.ylabel('Precision')\n",
    "    # show the legend\n",
    "    pyplot.legend()\n",
    "    # show the plot\n",
    "    pyplot.show()\n",
    "\n",
    "def plot_AUC_curve(probs,bin_test_labels):\n",
    "    \n",
    "    ### Make Random Guess array\n",
    "    ns_probs = [0 for _ in range(len(bin_test_labels))]\n",
    "    # calculate scores\n",
    "    ns_auc = roc_auc_score(bin_test_labels, ns_probs)\n",
    "    lr_auc = roc_auc_score(bin_test_labels, probs)\n",
    "    # summarize scores\n",
    "    print('No Skill: ROC AUC=%.3f' % (ns_auc))\n",
    "    print('RF-model: ROC AUC=%.3f' % (lr_auc))\n",
    "    # calculate roc curves\n",
    "    ns_fpr, ns_tpr, _ = roc_curve(bin_test_labels, ns_probs)\n",
    "    lr_fpr, lr_tpr, _ = roc_curve(bin_test_labels, probs)\n",
    "    # plot the roc curve for the model\n",
    "    pyplot.plot(ns_fpr, ns_tpr, linestyle='--', label='No Skill')\n",
    "    pyplot.plot(lr_fpr, lr_tpr, marker='.', label='RF-Model')\n",
    "    # axis labels\n",
    "    pyplot.xlabel('False Positive Rate')\n",
    "    pyplot.ylabel('True Positive Rate')\n",
    "    # show the legend\n",
    "    pyplot.legend()\n",
    "    # show the plot\n",
    "    pyplot.show()\n",
    "    \n",
    "def something():\n",
    "    results = {}\n",
    "    results['recall'] = recall_score(test_labels, predictions,average='macro')\n",
    "    results['precision'] = precision_score(test_labels, predictions,average='macro')\n",
    "    results['roc'] = roc_auc_score(test_labels, probs,average='macro')\n",
    "\n",
    "    train_results = {}\n",
    "    train_results['recall'] = recall_score(train_labels, train_predictions,average='macro')\n",
    "    train_results['precision'] = precision_score(train_labels, train_predictions,average='macro')\n",
    "    train_results['roc'] = roc_auc_score(train_labels, train_probs,average='macro')\n",
    "    return train_results, results\n"
   ]
  },
  {
   "cell_type": "code",
   "execution_count": null,
   "metadata": {},
   "outputs": [],
   "source": []
  },
  {
   "cell_type": "code",
   "execution_count": null,
   "metadata": {},
   "outputs": [],
   "source": []
  },
  {
   "cell_type": "code",
   "execution_count": 223,
   "metadata": {},
   "outputs": [
    {
     "data": {
      "text/html": [
       "<div>\n",
       "<style scoped>\n",
       "    .dataframe tbody tr th:only-of-type {\n",
       "        vertical-align: middle;\n",
       "    }\n",
       "\n",
       "    .dataframe tbody tr th {\n",
       "        vertical-align: top;\n",
       "    }\n",
       "\n",
       "    .dataframe thead th {\n",
       "        text-align: right;\n",
       "    }\n",
       "</style>\n",
       "<table border=\"1\" class=\"dataframe\">\n",
       "  <thead>\n",
       "    <tr style=\"text-align: right;\">\n",
       "      <th></th>\n",
       "      <th>binsize</th>\n",
       "      <th>nhallm</th>\n",
       "      <th>nVOGs</th>\n",
       "      <th>cluster_DVF_score</th>\n",
       "    </tr>\n",
       "  </thead>\n",
       "  <tbody>\n",
       "    <tr>\n",
       "      <th>169808</th>\n",
       "      <td>3787</td>\n",
       "      <td>1</td>\n",
       "      <td>3.00</td>\n",
       "      <td>1.00</td>\n",
       "    </tr>\n",
       "    <tr>\n",
       "      <th>7538</th>\n",
       "      <td>2047085</td>\n",
       "      <td>80</td>\n",
       "      <td>0.89</td>\n",
       "      <td>0.00</td>\n",
       "    </tr>\n",
       "    <tr>\n",
       "      <th>9961</th>\n",
       "      <td>16636</td>\n",
       "      <td>0</td>\n",
       "      <td>2.00</td>\n",
       "      <td>0.42</td>\n",
       "    </tr>\n",
       "    <tr>\n",
       "      <th>14448</th>\n",
       "      <td>1681237</td>\n",
       "      <td>105</td>\n",
       "      <td>0.38</td>\n",
       "      <td>0.05</td>\n",
       "    </tr>\n",
       "    <tr>\n",
       "      <th>38585</th>\n",
       "      <td>3300</td>\n",
       "      <td>0</td>\n",
       "      <td>0.00</td>\n",
       "      <td>0.01</td>\n",
       "    </tr>\n",
       "  </tbody>\n",
       "</table>\n",
       "</div>"
      ],
      "text/plain": [
       "        binsize  nhallm  nVOGs  cluster_DVF_score\n",
       "169808     3787       1   3.00               1.00\n",
       "7538    2047085      80   0.89               0.00\n",
       "9961      16636       0   2.00               0.42\n",
       "14448   1681237     105   0.38               0.05\n",
       "38585      3300       0   0.00               0.01"
      ]
     },
     "execution_count": 223,
     "metadata": {},
     "output_type": "execute_result"
    }
   ],
   "source": [
    "# 40% of Data for the test\n",
    "train, test, train_labels, test_labels = train_test_split(subset, labels, \n",
    "                                                          stratify = labels,\n",
    "                                                          test_size = 0.4, \n",
    "                                                          random_state = 1)\n",
    "\n",
    "\n",
    "model = RandomForestClassifier(n_estimators=300, \n",
    "                            random_state=1, \n",
    "                            max_features = 'sqrt',\n",
    "                            n_jobs=1, verbose = 1)\n",
    "\n",
    "bin_test_labels = np.where(test_labels == 'Bacterial',0,1)\n",
    "bin_train_labels = np.where(train_labels == 'Bacterial',0,1)\n",
    "\n",
    "train.head()\n",
    "test.head()\n"
   ]
  },
  {
   "cell_type": "code",
   "execution_count": 224,
   "metadata": {},
   "outputs": [
    {
     "name": "stderr",
     "output_type": "stream",
     "text": [
      "[Parallel(n_jobs=1)]: Using backend SequentialBackend with 1 concurrent workers.\n",
      "[Parallel(n_jobs=1)]: Done 300 out of 300 | elapsed:    0.4s finished\n",
      "[Parallel(n_jobs=1)]: Using backend SequentialBackend with 1 concurrent workers.\n",
      "[Parallel(n_jobs=1)]: Done 300 out of 300 | elapsed:    0.1s finished\n",
      "[Parallel(n_jobs=1)]: Using backend SequentialBackend with 1 concurrent workers.\n",
      "[Parallel(n_jobs=1)]: Done 300 out of 300 | elapsed:    0.1s finished\n",
      "[Parallel(n_jobs=1)]: Using backend SequentialBackend with 1 concurrent workers.\n",
      "[Parallel(n_jobs=1)]: Done 300 out of 300 | elapsed:    0.1s finished\n",
      "[Parallel(n_jobs=1)]: Using backend SequentialBackend with 1 concurrent workers.\n"
     ]
    },
    {
     "name": "stdout",
     "output_type": "stream",
     "text": [
      "Train ROC AUC Score: 1.0\n",
      "Test ROC AUC Score: 1.0\n"
     ]
    },
    {
     "name": "stderr",
     "output_type": "stream",
     "text": [
      "[Parallel(n_jobs=1)]: Done 300 out of 300 | elapsed:    0.1s finished\n"
     ]
    }
   ],
   "source": [
    "### Train on COPSAC\n",
    "train_predictions,train_probs, predictions, probs,trained_model = train_and_test_RF(model, train, test, train_labels, test_labels )\n"
   ]
  },
  {
   "cell_type": "code",
   "execution_count": 225,
   "metadata": {},
   "outputs": [
    {
     "data": {
      "text/plain": [
       "array([[2574,    0],\n",
       "       [   0,  925]])"
      ]
     },
     "execution_count": 225,
     "metadata": {},
     "output_type": "execute_result"
    }
   ],
   "source": [
    "confusion_matrix(test_labels,predictions)"
   ]
  },
  {
   "cell_type": "code",
   "execution_count": 295,
   "metadata": {},
   "outputs": [
    {
     "data": {
      "text/plain": [
       "<matplotlib.axes._subplots.AxesSubplot at 0x1a2fc5b400>"
      ]
     },
     "execution_count": 295,
     "metadata": {},
     "output_type": "execute_result"
    },
    {
     "data": {
      "image/png": "[encoded data removed]",
      "text/plain": [
       "<Figure size 432x288 with 1 Axes>"
      ]
     },
     "metadata": {
      "needs_background": "light"
     },
     "output_type": "display_data"
    }
   ],
   "source": [
    "feature_imp = pd.Series(trained_model.feature_importances_ , index=list(train.columns)).sort_values(ascending=False)\n",
    "sns.barplot(x=feature_imp, y=feature_imp.index)"
   ]
  },
  {
   "cell_type": "markdown",
   "metadata": {},
   "source": [
    "## Evaluate Performance on Diabimmune\n"
   ]
  },
  {
   "cell_type": "code",
   "execution_count": 212,
   "metadata": {},
   "outputs": [
    {
     "name": "stdout",
     "output_type": "stream",
     "text": [
      "(6068, 3)\n",
      "(6068, 10)\n"
     ]
    },
    {
     "data": {
      "text/html": [
       "<div>\n",
       "<style scoped>\n",
       "    .dataframe tbody tr th:only-of-type {\n",
       "        vertical-align: middle;\n",
       "    }\n",
       "\n",
       "    .dataframe tbody tr th {\n",
       "        vertical-align: top;\n",
       "    }\n",
       "\n",
       "    .dataframe thead th {\n",
       "        text-align: right;\n",
       "    }\n",
       "</style>\n",
       "<table border=\"1\" class=\"dataframe\">\n",
       "  <thead>\n",
       "    <tr style=\"text-align: right;\">\n",
       "      <th></th>\n",
       "      <th>binsize</th>\n",
       "      <th>nVOGs</th>\n",
       "      <th>cluster_DVF_score</th>\n",
       "    </tr>\n",
       "  </thead>\n",
       "  <tbody>\n",
       "    <tr>\n",
       "      <th>3</th>\n",
       "      <td>1715654</td>\n",
       "      <td>0.22</td>\n",
       "      <td>0.07</td>\n",
       "    </tr>\n",
       "    <tr>\n",
       "      <th>4</th>\n",
       "      <td>1035311</td>\n",
       "      <td>0.21</td>\n",
       "      <td>0.07</td>\n",
       "    </tr>\n",
       "    <tr>\n",
       "      <th>5</th>\n",
       "      <td>882877</td>\n",
       "      <td>0.20</td>\n",
       "      <td>0.07</td>\n",
       "    </tr>\n",
       "    <tr>\n",
       "      <th>18</th>\n",
       "      <td>732338</td>\n",
       "      <td>0.28</td>\n",
       "      <td>0.00</td>\n",
       "    </tr>\n",
       "    <tr>\n",
       "      <th>19</th>\n",
       "      <td>1833784</td>\n",
       "      <td>0.28</td>\n",
       "      <td>0.00</td>\n",
       "    </tr>\n",
       "  </tbody>\n",
       "</table>\n",
       "</div>"
      ],
      "text/plain": [
       "    binsize  nVOGs  cluster_DVF_score\n",
       "3   1715654   0.22               0.07\n",
       "4   1035311   0.21               0.07\n",
       "5    882877   0.20               0.07\n",
       "18   732338   0.28               0.00\n",
       "19  1833784   0.28               0.00"
      ]
     },
     "execution_count": 212,
     "metadata": {},
     "output_type": "execute_result"
    }
   ],
   "source": [
    "print(diab_subset.shape)\n",
    "print(diab_vambbins_df.shape)\n",
    "diab_subset.head()"
   ]
  },
  {
   "cell_type": "code",
   "execution_count": 226,
   "metadata": {},
   "outputs": [
    {
     "name": "stderr",
     "output_type": "stream",
     "text": [
      "[Parallel(n_jobs=1)]: Using backend SequentialBackend with 1 concurrent workers.\n",
      "[Parallel(n_jobs=1)]: Done 300 out of 300 | elapsed:    0.1s finished\n",
      "[Parallel(n_jobs=1)]: Using backend SequentialBackend with 1 concurrent workers.\n",
      "[Parallel(n_jobs=1)]: Done 300 out of 300 | elapsed:    0.1s finished\n"
     ]
    },
    {
     "name": "stdout",
     "output_type": "stream",
     "text": [
      "Evaluation ROC AUC Score: 1.0\n"
     ]
    },
    {
     "data": {
      "text/plain": [
       "array([[ 595,    1],\n",
       "       [   0, 5472]])"
      ]
     },
     "execution_count": 226,
     "metadata": {},
     "output_type": "execute_result"
    }
   ],
   "source": [
    "\n",
    "\n",
    "### Evaluate on Diabimmune Test-set\n",
    "eval_predictions = trained_model.predict(diab_subset)\n",
    "eval_probs = trained_model.predict_proba(diab_subset)[:, 1]\n",
    "\n",
    "print(f'Evaluation ROC AUC Score: {roc_auc_score(evaluation_labels, eval_probs)}')\n",
    "eval_results = {}\n",
    "eval_results['recall'] = recall_score(evaluation_labels, eval_predictions,average='macro')\n",
    "eval_results['precision'] = precision_score(evaluation_labels, eval_predictions,average='macro')\n",
    "eval_results['roc'] = roc_auc_score(evaluation_labels, eval_probs,average='macro')\n",
    "\n",
    "### \n",
    "confusion_matrix(evaluation_labels,eval_predictions)"
   ]
  },
  {
   "cell_type": "code",
   "execution_count": 227,
   "metadata": {},
   "outputs": [
    {
     "name": "stdout",
     "output_type": "stream",
     "text": [
      "Logistic: f1=1.000 auc=1.000\n"
     ]
    },
    {
     "data": {
      "image/png": "[encoded data removed]",
      "text/plain": [
       "<Figure size 432x288 with 1 Axes>"
      ]
     },
     "metadata": {
      "needs_background": "light"
     },
     "output_type": "display_data"
    }
   ],
   "source": [
    "bin_eval_labels = np.where(evaluation_labels == 'Bacterial',0,1)\n",
    "plot_precision_recall(eval_predictions,eval_probs,bin_eval_labels)"
   ]
  },
  {
   "cell_type": "code",
   "execution_count": 228,
   "metadata": {},
   "outputs": [
    {
     "name": "stdout",
     "output_type": "stream",
     "text": [
      "No Skill: ROC AUC=0.500\n",
      "Logistic: ROC AUC=1.000\n"
     ]
    },
    {
     "data": {
      "image/png": "[encoded data removed]",
      "text/plain": [
       "<Figure size 432x288 with 1 Axes>"
      ]
     },
     "metadata": {
      "needs_background": "light"
     },
     "output_type": "display_data"
    }
   ],
   "source": [
    "plot_AUC_curve(eval_probs,bin_eval_labels)"
   ]
  },
  {
   "cell_type": "markdown",
   "metadata": {},
   "source": [
    "# Save optimised RF model \n"
   ]
  },
  {
   "cell_type": "code",
   "execution_count": 276,
   "metadata": {},
   "outputs": [
    {
     "ename": "NameError",
     "evalue": "name 'sklearn' is not defined",
     "output_type": "error",
     "traceback": [
      "\u001b[0;31m---------------------------------------------------------------------------\u001b[0m",
      "\u001b[0;31mNameError\u001b[0m                                 Traceback (most recent call last)",
      "\u001b[0;32m<ipython-input-276-19aa9d57b07a>\u001b[0m in \u001b[0;36m<module>\u001b[0;34m\u001b[0m\n\u001b[1;32m      4\u001b[0m \u001b[0;31m# some time later...\u001b[0m\u001b[0;34m\u001b[0m\u001b[0;34m\u001b[0m\u001b[0;34m\u001b[0m\u001b[0m\n\u001b[1;32m      5\u001b[0m \u001b[0;34m\u001b[0m\u001b[0m\n\u001b[0;32m----> 6\u001b[0;31m \u001b[0mprint\u001b[0m\u001b[0;34m(\u001b[0m\u001b[0msklearn\u001b[0m\u001b[0;34m.\u001b[0m\u001b[0m__version__\u001b[0m\u001b[0;34m)\u001b[0m\u001b[0;34m\u001b[0m\u001b[0;34m\u001b[0m\u001b[0m\n\u001b[0m",
      "\u001b[0;31mNameError\u001b[0m: name 'sklearn' is not defined"
     ]
    }
   ],
   "source": [
    "filename = 'RF_model.sav'\n",
    "joblib.dump(trained_model, filename)\n",
    " \n",
    "# some time later...\n",
    "\n",
    "print(sklearn.__version__)"
   ]
  },
  {
   "cell_type": "code",
   "execution_count": null,
   "metadata": {},
   "outputs": [],
   "source": [
    " \n",
    "# load the model from disk\n",
    "loaded_model = joblib.load('RF_model.sav')\n"
   ]
  },
  {
   "cell_type": "markdown",
   "metadata": {},
   "source": [
    "# Predict Viral Bins in HMP2"
   ]
  },
  {
   "cell_type": "code",
   "execution_count": 218,
   "metadata": {},
   "outputs": [],
   "source": [
    "vamb_bins_file = '../HMP2/04_annotation/annotation_summaries/vambbins_aggregated_annotation.txt'\n",
    "\n",
    "HMP2_vambbins = pd.read_csv(vamb_bins_file,sep='\\t')\n"
   ]
  },
  {
   "cell_type": "code",
   "execution_count": 285,
   "metadata": {},
   "outputs": [
    {
     "data": {
      "text/plain": [
       "RandomForestClassifier(bootstrap=True, class_weight=None, criterion='gini',\n",
       "            max_depth=None, max_features='sqrt', max_leaf_nodes=None,\n",
       "            min_impurity_decrease=0.0, min_impurity_split=None,\n",
       "            min_samples_leaf=1, min_samples_split=2,\n",
       "            min_weight_fraction_leaf=0.0, n_estimators=300, n_jobs=1,\n",
       "            oob_score=False, random_state=1, verbose=1, warm_start=False)"
      ]
     },
     "execution_count": 285,
     "metadata": {},
     "output_type": "execute_result"
    }
   ],
   "source": [
    "HMP2_vambbins.head()\n",
    "trained_model"
   ]
  },
  {
   "cell_type": "code",
   "execution_count": 296,
   "metadata": {},
   "outputs": [
    {
     "name": "stderr",
     "output_type": "stream",
     "text": [
      "[Parallel(n_jobs=1)]: Using backend SequentialBackend with 1 concurrent workers.\n",
      "[Parallel(n_jobs=1)]: Done 300 out of 300 | elapsed:   22.0s finished\n",
      "[Parallel(n_jobs=1)]: Using backend SequentialBackend with 1 concurrent workers.\n",
      "[Parallel(n_jobs=1)]: Done 300 out of 300 | elapsed:   22.1s finished\n"
     ]
    }
   ],
   "source": [
    "HMP2_subset = HMP2_vambbins[['binsize','nhallm','nVOGs','cluster_DVF_score']]\n",
    "eval_predictions = trained_model.predict(HMP2_subset)\n",
    "eval_probs = trained_model.predict_proba(HMP2_subset)[:, 1]\n"
   ]
  },
  {
   "cell_type": "code",
   "execution_count": null,
   "metadata": {},
   "outputs": [],
   "source": []
  },
  {
   "cell_type": "code",
   "execution_count": null,
   "metadata": {},
   "outputs": [],
   "source": []
  },
  {
   "cell_type": "code",
   "execution_count": 297,
   "metadata": {},
   "outputs": [],
   "source": [
    "HMP2_vambbins['Prediction'] = eval_predictions"
   ]
  },
  {
   "cell_type": "code",
   "execution_count": 298,
   "metadata": {},
   "outputs": [],
   "source": [
    "HMP2_vambbins_filtered = HMP2_vambbins[ (HMP2_vambbins.Prediction =='Viral') & (HMP2_vambbins.nVOGs >= 1) & (HMP2_vambbins.cluster_DVF_score >= 0.3) ]"
   ]
  },
  {
   "cell_type": "code",
   "execution_count": 262,
   "metadata": {},
   "outputs": [
    {
     "data": {
      "text/plain": [
       "<matplotlib.axes._subplots.AxesSubplot at 0x1a2f309a90>"
      ]
     },
     "execution_count": 262,
     "metadata": {},
     "output_type": "execute_result"
    },
    {
     "data": {
      "image/png": "[encoded data removed]",
      "text/plain": [
       "<Figure size 432x288 with 1 Axes>"
      ]
     },
     "metadata": {
      "needs_background": "light"
     },
     "output_type": "display_data"
    }
   ],
   "source": [
    "sns.countplot(\"Prediction\",data=HMP2_vambbins)"
   ]
  },
  {
   "cell_type": "code",
   "execution_count": 267,
   "metadata": {},
   "outputs": [
    {
     "data": {
      "text/plain": [
       "<matplotlib.axes._subplots.AxesSubplot at 0x1a304420f0>"
      ]
     },
     "execution_count": 267,
     "metadata": {},
     "output_type": "execute_result"
    },
    {
     "data": {
      "image/png": "[encoded data removed]",
      "text/plain": [
       "<Figure size 432x288 with 2 Axes>"
      ]
     },
     "metadata": {
      "needs_background": "light"
     },
     "output_type": "display_data"
    }
   ],
   "source": [
    "\n",
    "fig, (ax1, ax2) = pyplot.subplots(ncols=2, sharey=True)\n",
    "sns.boxplot(x=\"Prediction\",y=\"cluster_DVF_score\",data=HMP2_vambbins_filtered, ax=ax1)\n",
    "sns.boxplot(x=\"Prediction\",y=\"cluster_DVF_score\",data=HMP2_vambbins, ax=ax2)"
   ]
  },
  {
   "cell_type": "code",
   "execution_count": 301,
   "metadata": {},
   "outputs": [
    {
     "name": "stdout",
     "output_type": "stream",
     "text": [
      "(482335, 10)\n"
     ]
    }
   ],
   "source": [
    "sum(HMP2_vambbins_filtered.ncontigs)\n",
    "print(HMP2_vambbins_filtered.shape)"
   ]
  },
  {
   "cell_type": "code",
   "execution_count": 300,
   "metadata": {},
   "outputs": [
    {
     "data": {
      "text/html": [
       "<div>\n",
       "<style scoped>\n",
       "    .dataframe tbody tr th:only-of-type {\n",
       "        vertical-align: middle;\n",
       "    }\n",
       "\n",
       "    .dataframe tbody tr th {\n",
       "        vertical-align: top;\n",
       "    }\n",
       "\n",
       "    .dataframe thead th {\n",
       "        text-align: right;\n",
       "    }\n",
       "</style>\n",
       "<table border=\"1\" class=\"dataframe\">\n",
       "  <thead>\n",
       "    <tr style=\"text-align: right;\">\n",
       "      <th></th>\n",
       "      <th>binid</th>\n",
       "      <th>ncontigs</th>\n",
       "      <th>binsize</th>\n",
       "      <th>motherbin</th>\n",
       "      <th>nhallm</th>\n",
       "      <th>nVOGs</th>\n",
       "      <th>IMGVRhits_frac</th>\n",
       "      <th>bin_DVF_score</th>\n",
       "      <th>cluster_DVF_score</th>\n",
       "      <th>Prediction</th>\n",
       "    </tr>\n",
       "  </thead>\n",
       "  <tbody>\n",
       "    <tr>\n",
       "      <th>1</th>\n",
       "      <td>MSM79H9Q_2</td>\n",
       "      <td>1</td>\n",
       "      <td>3669</td>\n",
       "      <td>2</td>\n",
       "      <td>0</td>\n",
       "      <td>3.00</td>\n",
       "      <td>0.00</td>\n",
       "      <td>0.45</td>\n",
       "      <td>0.45</td>\n",
       "      <td>Viral</td>\n",
       "    </tr>\n",
       "    <tr>\n",
       "      <th>188</th>\n",
       "      <td>PSM6XBSA_8</td>\n",
       "      <td>1</td>\n",
       "      <td>2713</td>\n",
       "      <td>8</td>\n",
       "      <td>0</td>\n",
       "      <td>1.00</td>\n",
       "      <td>0.00</td>\n",
       "      <td>0.74</td>\n",
       "      <td>0.74</td>\n",
       "      <td>Viral</td>\n",
       "    </tr>\n",
       "    <tr>\n",
       "      <th>2794</th>\n",
       "      <td>HSM7J4NS_34</td>\n",
       "      <td>1</td>\n",
       "      <td>3036</td>\n",
       "      <td>34</td>\n",
       "      <td>0</td>\n",
       "      <td>1.00</td>\n",
       "      <td>0.00</td>\n",
       "      <td>0.75</td>\n",
       "      <td>0.75</td>\n",
       "      <td>Viral</td>\n",
       "    </tr>\n",
       "    <tr>\n",
       "      <th>3007</th>\n",
       "      <td>CSM79HMN_38</td>\n",
       "      <td>8</td>\n",
       "      <td>26210</td>\n",
       "      <td>38</td>\n",
       "      <td>1</td>\n",
       "      <td>1.75</td>\n",
       "      <td>0.12</td>\n",
       "      <td>0.87</td>\n",
       "      <td>0.99</td>\n",
       "      <td>Viral</td>\n",
       "    </tr>\n",
       "    <tr>\n",
       "      <th>3009</th>\n",
       "      <td>CSM79HOX_38</td>\n",
       "      <td>11</td>\n",
       "      <td>57991</td>\n",
       "      <td>38</td>\n",
       "      <td>1</td>\n",
       "      <td>3.09</td>\n",
       "      <td>0.27</td>\n",
       "      <td>0.99</td>\n",
       "      <td>0.99</td>\n",
       "      <td>Viral</td>\n",
       "    </tr>\n",
       "    <tr>\n",
       "      <th>3010</th>\n",
       "      <td>PSMA2653_38</td>\n",
       "      <td>9</td>\n",
       "      <td>28917</td>\n",
       "      <td>38</td>\n",
       "      <td>1</td>\n",
       "      <td>2.22</td>\n",
       "      <td>0.11</td>\n",
       "      <td>0.99</td>\n",
       "      <td>0.99</td>\n",
       "      <td>Viral</td>\n",
       "    </tr>\n",
       "    <tr>\n",
       "      <th>3011</th>\n",
       "      <td>MSMAPC6G_38</td>\n",
       "      <td>4</td>\n",
       "      <td>62783</td>\n",
       "      <td>38</td>\n",
       "      <td>1</td>\n",
       "      <td>9.50</td>\n",
       "      <td>0.50</td>\n",
       "      <td>1.00</td>\n",
       "      <td>0.99</td>\n",
       "      <td>Viral</td>\n",
       "    </tr>\n",
       "    <tr>\n",
       "      <th>3012</th>\n",
       "      <td>PSMA267D_38</td>\n",
       "      <td>4</td>\n",
       "      <td>54339</td>\n",
       "      <td>38</td>\n",
       "      <td>1</td>\n",
       "      <td>8.75</td>\n",
       "      <td>0.75</td>\n",
       "      <td>1.00</td>\n",
       "      <td>0.99</td>\n",
       "      <td>Viral</td>\n",
       "    </tr>\n",
       "    <tr>\n",
       "      <th>3013</th>\n",
       "      <td>CSM79HP2_38</td>\n",
       "      <td>3</td>\n",
       "      <td>60888</td>\n",
       "      <td>38</td>\n",
       "      <td>1</td>\n",
       "      <td>12.33</td>\n",
       "      <td>0.67</td>\n",
       "      <td>1.00</td>\n",
       "      <td>0.99</td>\n",
       "      <td>Viral</td>\n",
       "    </tr>\n",
       "    <tr>\n",
       "      <th>3014</th>\n",
       "      <td>MSM9VZIY_38</td>\n",
       "      <td>7</td>\n",
       "      <td>60244</td>\n",
       "      <td>38</td>\n",
       "      <td>1</td>\n",
       "      <td>5.14</td>\n",
       "      <td>0.57</td>\n",
       "      <td>1.00</td>\n",
       "      <td>0.99</td>\n",
       "      <td>Viral</td>\n",
       "    </tr>\n",
       "    <tr>\n",
       "      <th>3015</th>\n",
       "      <td>MSMB4LZ8_38</td>\n",
       "      <td>11</td>\n",
       "      <td>34885</td>\n",
       "      <td>38</td>\n",
       "      <td>1</td>\n",
       "      <td>2.00</td>\n",
       "      <td>0.18</td>\n",
       "      <td>1.00</td>\n",
       "      <td>0.99</td>\n",
       "      <td>Viral</td>\n",
       "    </tr>\n",
       "    <tr>\n",
       "      <th>3016</th>\n",
       "      <td>MSM9VZGU_38</td>\n",
       "      <td>15</td>\n",
       "      <td>48044</td>\n",
       "      <td>38</td>\n",
       "      <td>1</td>\n",
       "      <td>1.93</td>\n",
       "      <td>0.13</td>\n",
       "      <td>0.98</td>\n",
       "      <td>0.99</td>\n",
       "      <td>Viral</td>\n",
       "    </tr>\n",
       "    <tr>\n",
       "      <th>3017</th>\n",
       "      <td>CSM5MCX3_38</td>\n",
       "      <td>11</td>\n",
       "      <td>35458</td>\n",
       "      <td>38</td>\n",
       "      <td>1</td>\n",
       "      <td>2.09</td>\n",
       "      <td>0.18</td>\n",
       "      <td>0.99</td>\n",
       "      <td>0.99</td>\n",
       "      <td>Viral</td>\n",
       "    </tr>\n",
       "    <tr>\n",
       "      <th>3018</th>\n",
       "      <td>HSM7J4NM_38</td>\n",
       "      <td>9</td>\n",
       "      <td>24116</td>\n",
       "      <td>38</td>\n",
       "      <td>1</td>\n",
       "      <td>1.67</td>\n",
       "      <td>0.11</td>\n",
       "      <td>0.99</td>\n",
       "      <td>0.99</td>\n",
       "      <td>Viral</td>\n",
       "    </tr>\n",
       "    <tr>\n",
       "      <th>3019</th>\n",
       "      <td>MSM9VZLT_38</td>\n",
       "      <td>4</td>\n",
       "      <td>11900</td>\n",
       "      <td>38</td>\n",
       "      <td>1</td>\n",
       "      <td>2.00</td>\n",
       "      <td>0.25</td>\n",
       "      <td>0.99</td>\n",
       "      <td>0.99</td>\n",
       "      <td>Viral</td>\n",
       "    </tr>\n",
       "    <tr>\n",
       "      <th>3020</th>\n",
       "      <td>CSM7KOPE_38</td>\n",
       "      <td>7</td>\n",
       "      <td>59997</td>\n",
       "      <td>38</td>\n",
       "      <td>1</td>\n",
       "      <td>5.00</td>\n",
       "      <td>0.43</td>\n",
       "      <td>1.00</td>\n",
       "      <td>0.99</td>\n",
       "      <td>Viral</td>\n",
       "    </tr>\n",
       "    <tr>\n",
       "      <th>3021</th>\n",
       "      <td>HSM7J4NS_38</td>\n",
       "      <td>5</td>\n",
       "      <td>14525</td>\n",
       "      <td>38</td>\n",
       "      <td>1</td>\n",
       "      <td>1.80</td>\n",
       "      <td>0.20</td>\n",
       "      <td>1.00</td>\n",
       "      <td>0.99</td>\n",
       "      <td>Viral</td>\n",
       "    </tr>\n",
       "    <tr>\n",
       "      <th>3022</th>\n",
       "      <td>HSM7CYX4_38</td>\n",
       "      <td>16</td>\n",
       "      <td>56621</td>\n",
       "      <td>38</td>\n",
       "      <td>1</td>\n",
       "      <td>2.31</td>\n",
       "      <td>0.19</td>\n",
       "      <td>0.95</td>\n",
       "      <td>0.99</td>\n",
       "      <td>Viral</td>\n",
       "    </tr>\n",
       "    <tr>\n",
       "      <th>3023</th>\n",
       "      <td>CSM79HMT_38</td>\n",
       "      <td>9</td>\n",
       "      <td>53596</td>\n",
       "      <td>38</td>\n",
       "      <td>1</td>\n",
       "      <td>3.78</td>\n",
       "      <td>0.33</td>\n",
       "      <td>1.00</td>\n",
       "      <td>0.99</td>\n",
       "      <td>Viral</td>\n",
       "    </tr>\n",
       "    <tr>\n",
       "      <th>3024</th>\n",
       "      <td>HSM7J4K2_38</td>\n",
       "      <td>4</td>\n",
       "      <td>15615</td>\n",
       "      <td>38</td>\n",
       "      <td>1</td>\n",
       "      <td>2.50</td>\n",
       "      <td>0.50</td>\n",
       "      <td>0.99</td>\n",
       "      <td>0.99</td>\n",
       "      <td>Viral</td>\n",
       "    </tr>\n",
       "    <tr>\n",
       "      <th>3025</th>\n",
       "      <td>CSM79HHA_38</td>\n",
       "      <td>11</td>\n",
       "      <td>52403</td>\n",
       "      <td>38</td>\n",
       "      <td>1</td>\n",
       "      <td>3.00</td>\n",
       "      <td>0.18</td>\n",
       "      <td>1.00</td>\n",
       "      <td>0.99</td>\n",
       "      <td>Viral</td>\n",
       "    </tr>\n",
       "    <tr>\n",
       "      <th>3026</th>\n",
       "      <td>MSM6J2IO_38</td>\n",
       "      <td>5</td>\n",
       "      <td>58931</td>\n",
       "      <td>38</td>\n",
       "      <td>1</td>\n",
       "      <td>7.40</td>\n",
       "      <td>0.80</td>\n",
       "      <td>1.00</td>\n",
       "      <td>0.99</td>\n",
       "      <td>Viral</td>\n",
       "    </tr>\n",
       "    <tr>\n",
       "      <th>3027</th>\n",
       "      <td>CSM67UFV_38</td>\n",
       "      <td>12</td>\n",
       "      <td>46209</td>\n",
       "      <td>38</td>\n",
       "      <td>1</td>\n",
       "      <td>2.25</td>\n",
       "      <td>0.08</td>\n",
       "      <td>0.99</td>\n",
       "      <td>0.99</td>\n",
       "      <td>Viral</td>\n",
       "    </tr>\n",
       "    <tr>\n",
       "      <th>3028</th>\n",
       "      <td>MSM9VZPT_38</td>\n",
       "      <td>6</td>\n",
       "      <td>60530</td>\n",
       "      <td>38</td>\n",
       "      <td>1</td>\n",
       "      <td>6.17</td>\n",
       "      <td>0.50</td>\n",
       "      <td>1.00</td>\n",
       "      <td>0.99</td>\n",
       "      <td>Viral</td>\n",
       "    </tr>\n",
       "    <tr>\n",
       "      <th>3029</th>\n",
       "      <td>MSM6J2IM_38</td>\n",
       "      <td>9</td>\n",
       "      <td>59267</td>\n",
       "      <td>38</td>\n",
       "      <td>1</td>\n",
       "      <td>4.11</td>\n",
       "      <td>0.33</td>\n",
       "      <td>1.00</td>\n",
       "      <td>0.99</td>\n",
       "      <td>Viral</td>\n",
       "    </tr>\n",
       "    <tr>\n",
       "      <th>3030</th>\n",
       "      <td>CSM7KOTC_38</td>\n",
       "      <td>10</td>\n",
       "      <td>35101</td>\n",
       "      <td>38</td>\n",
       "      <td>1</td>\n",
       "      <td>2.00</td>\n",
       "      <td>0.40</td>\n",
       "      <td>1.00</td>\n",
       "      <td>0.99</td>\n",
       "      <td>Viral</td>\n",
       "    </tr>\n",
       "    <tr>\n",
       "      <th>3031</th>\n",
       "      <td>MSMA26DI_38</td>\n",
       "      <td>10</td>\n",
       "      <td>59378</td>\n",
       "      <td>38</td>\n",
       "      <td>1</td>\n",
       "      <td>2.70</td>\n",
       "      <td>0.30</td>\n",
       "      <td>1.00</td>\n",
       "      <td>0.99</td>\n",
       "      <td>Viral</td>\n",
       "    </tr>\n",
       "    <tr>\n",
       "      <th>3032</th>\n",
       "      <td>MSM9VZL5_38</td>\n",
       "      <td>10</td>\n",
       "      <td>38565</td>\n",
       "      <td>38</td>\n",
       "      <td>1</td>\n",
       "      <td>2.50</td>\n",
       "      <td>0.30</td>\n",
       "      <td>0.99</td>\n",
       "      <td>0.99</td>\n",
       "      <td>Viral</td>\n",
       "    </tr>\n",
       "    <tr>\n",
       "      <th>3033</th>\n",
       "      <td>MSM79H63_38</td>\n",
       "      <td>10</td>\n",
       "      <td>39816</td>\n",
       "      <td>38</td>\n",
       "      <td>1</td>\n",
       "      <td>2.40</td>\n",
       "      <td>0.30</td>\n",
       "      <td>1.00</td>\n",
       "      <td>0.99</td>\n",
       "      <td>Viral</td>\n",
       "    </tr>\n",
       "    <tr>\n",
       "      <th>3034</th>\n",
       "      <td>PSM7J13K_38</td>\n",
       "      <td>10</td>\n",
       "      <td>54141</td>\n",
       "      <td>38</td>\n",
       "      <td>1</td>\n",
       "      <td>3.50</td>\n",
       "      <td>0.40</td>\n",
       "      <td>0.99</td>\n",
       "      <td>0.99</td>\n",
       "      <td>Viral</td>\n",
       "    </tr>\n",
       "    <tr>\n",
       "      <th>...</th>\n",
       "      <td>...</td>\n",
       "      <td>...</td>\n",
       "      <td>...</td>\n",
       "      <td>...</td>\n",
       "      <td>...</td>\n",
       "      <td>...</td>\n",
       "      <td>...</td>\n",
       "      <td>...</td>\n",
       "      <td>...</td>\n",
       "      <td>...</td>\n",
       "    </tr>\n",
       "    <tr>\n",
       "      <th>1936836</th>\n",
       "      <td>PSM7J19B_474637</td>\n",
       "      <td>1</td>\n",
       "      <td>4151</td>\n",
       "      <td>474637</td>\n",
       "      <td>0</td>\n",
       "      <td>1.00</td>\n",
       "      <td>0.00</td>\n",
       "      <td>0.55</td>\n",
       "      <td>0.55</td>\n",
       "      <td>Viral</td>\n",
       "    </tr>\n",
       "    <tr>\n",
       "      <th>1936839</th>\n",
       "      <td>CSMAHYLR_474641</td>\n",
       "      <td>1</td>\n",
       "      <td>4484</td>\n",
       "      <td>474641</td>\n",
       "      <td>0</td>\n",
       "      <td>1.00</td>\n",
       "      <td>0.00</td>\n",
       "      <td>1.00</td>\n",
       "      <td>1.00</td>\n",
       "      <td>Viral</td>\n",
       "    </tr>\n",
       "    <tr>\n",
       "      <th>1936849</th>\n",
       "      <td>CSM7KOTU_474659</td>\n",
       "      <td>1</td>\n",
       "      <td>12506</td>\n",
       "      <td>474659</td>\n",
       "      <td>0</td>\n",
       "      <td>7.00</td>\n",
       "      <td>0.00</td>\n",
       "      <td>0.45</td>\n",
       "      <td>0.45</td>\n",
       "      <td>Viral</td>\n",
       "    </tr>\n",
       "    <tr>\n",
       "      <th>1936852</th>\n",
       "      <td>ESM5MEDF_474664</td>\n",
       "      <td>1</td>\n",
       "      <td>3385</td>\n",
       "      <td>474664</td>\n",
       "      <td>0</td>\n",
       "      <td>1.00</td>\n",
       "      <td>0.00</td>\n",
       "      <td>0.46</td>\n",
       "      <td>0.46</td>\n",
       "      <td>Viral</td>\n",
       "    </tr>\n",
       "    <tr>\n",
       "      <th>1936854</th>\n",
       "      <td>MSM79H98_474668</td>\n",
       "      <td>1</td>\n",
       "      <td>9910</td>\n",
       "      <td>474668</td>\n",
       "      <td>0</td>\n",
       "      <td>1.00</td>\n",
       "      <td>0.00</td>\n",
       "      <td>0.87</td>\n",
       "      <td>0.87</td>\n",
       "      <td>Viral</td>\n",
       "    </tr>\n",
       "    <tr>\n",
       "      <th>1936875</th>\n",
       "      <td>CSM7KOK5_474702</td>\n",
       "      <td>1</td>\n",
       "      <td>6140</td>\n",
       "      <td>474702</td>\n",
       "      <td>0</td>\n",
       "      <td>2.00</td>\n",
       "      <td>0.00</td>\n",
       "      <td>0.44</td>\n",
       "      <td>0.44</td>\n",
       "      <td>Viral</td>\n",
       "    </tr>\n",
       "    <tr>\n",
       "      <th>1936878</th>\n",
       "      <td>MSM6J2M3_474707</td>\n",
       "      <td>1</td>\n",
       "      <td>3785</td>\n",
       "      <td>474707</td>\n",
       "      <td>2</td>\n",
       "      <td>2.00</td>\n",
       "      <td>0.00</td>\n",
       "      <td>0.45</td>\n",
       "      <td>0.45</td>\n",
       "      <td>Viral</td>\n",
       "    </tr>\n",
       "    <tr>\n",
       "      <th>1936883</th>\n",
       "      <td>HSMA33KE_474716</td>\n",
       "      <td>1</td>\n",
       "      <td>21713</td>\n",
       "      <td>474716</td>\n",
       "      <td>0</td>\n",
       "      <td>3.00</td>\n",
       "      <td>0.00</td>\n",
       "      <td>0.45</td>\n",
       "      <td>0.45</td>\n",
       "      <td>Viral</td>\n",
       "    </tr>\n",
       "    <tr>\n",
       "      <th>1936887</th>\n",
       "      <td>PSM6XBTT_474721</td>\n",
       "      <td>1</td>\n",
       "      <td>2550</td>\n",
       "      <td>474721</td>\n",
       "      <td>0</td>\n",
       "      <td>1.00</td>\n",
       "      <td>0.00</td>\n",
       "      <td>0.61</td>\n",
       "      <td>0.61</td>\n",
       "      <td>Viral</td>\n",
       "    </tr>\n",
       "    <tr>\n",
       "      <th>1936888</th>\n",
       "      <td>CSM9X23H_474724</td>\n",
       "      <td>1</td>\n",
       "      <td>5689</td>\n",
       "      <td>474724</td>\n",
       "      <td>0</td>\n",
       "      <td>3.00</td>\n",
       "      <td>0.00</td>\n",
       "      <td>0.88</td>\n",
       "      <td>0.88</td>\n",
       "      <td>Viral</td>\n",
       "    </tr>\n",
       "    <tr>\n",
       "      <th>1936892</th>\n",
       "      <td>CSM7KOLA_474732</td>\n",
       "      <td>1</td>\n",
       "      <td>2814</td>\n",
       "      <td>474732</td>\n",
       "      <td>0</td>\n",
       "      <td>1.00</td>\n",
       "      <td>0.00</td>\n",
       "      <td>1.00</td>\n",
       "      <td>1.00</td>\n",
       "      <td>Viral</td>\n",
       "    </tr>\n",
       "    <tr>\n",
       "      <th>1936893</th>\n",
       "      <td>HSM67VDP_474734</td>\n",
       "      <td>1</td>\n",
       "      <td>3509</td>\n",
       "      <td>474734</td>\n",
       "      <td>0</td>\n",
       "      <td>8.00</td>\n",
       "      <td>0.00</td>\n",
       "      <td>1.00</td>\n",
       "      <td>1.00</td>\n",
       "      <td>Viral</td>\n",
       "    </tr>\n",
       "    <tr>\n",
       "      <th>1936896</th>\n",
       "      <td>CSM67UBX_474739</td>\n",
       "      <td>1</td>\n",
       "      <td>2606</td>\n",
       "      <td>474739</td>\n",
       "      <td>0</td>\n",
       "      <td>1.00</td>\n",
       "      <td>0.00</td>\n",
       "      <td>0.67</td>\n",
       "      <td>0.67</td>\n",
       "      <td>Viral</td>\n",
       "    </tr>\n",
       "    <tr>\n",
       "      <th>1936898</th>\n",
       "      <td>PSM7J14L_474742</td>\n",
       "      <td>1</td>\n",
       "      <td>2583</td>\n",
       "      <td>474742</td>\n",
       "      <td>0</td>\n",
       "      <td>2.00</td>\n",
       "      <td>0.00</td>\n",
       "      <td>0.94</td>\n",
       "      <td>0.94</td>\n",
       "      <td>Viral</td>\n",
       "    </tr>\n",
       "    <tr>\n",
       "      <th>1936900</th>\n",
       "      <td>PSM6XBSS_474746</td>\n",
       "      <td>1</td>\n",
       "      <td>4378</td>\n",
       "      <td>474746</td>\n",
       "      <td>0</td>\n",
       "      <td>1.00</td>\n",
       "      <td>0.00</td>\n",
       "      <td>0.47</td>\n",
       "      <td>0.47</td>\n",
       "      <td>Viral</td>\n",
       "    </tr>\n",
       "    <tr>\n",
       "      <th>1936902</th>\n",
       "      <td>HSM7CYXO_474748</td>\n",
       "      <td>1</td>\n",
       "      <td>20646</td>\n",
       "      <td>474748</td>\n",
       "      <td>0</td>\n",
       "      <td>1.00</td>\n",
       "      <td>0.00</td>\n",
       "      <td>0.59</td>\n",
       "      <td>0.59</td>\n",
       "      <td>Viral</td>\n",
       "    </tr>\n",
       "    <tr>\n",
       "      <th>1936903</th>\n",
       "      <td>CSM7KOKN_474749</td>\n",
       "      <td>1</td>\n",
       "      <td>7434</td>\n",
       "      <td>474749</td>\n",
       "      <td>0</td>\n",
       "      <td>1.00</td>\n",
       "      <td>0.00</td>\n",
       "      <td>0.96</td>\n",
       "      <td>0.96</td>\n",
       "      <td>Viral</td>\n",
       "    </tr>\n",
       "    <tr>\n",
       "      <th>1936910</th>\n",
       "      <td>MSM9VZMO_474763</td>\n",
       "      <td>1</td>\n",
       "      <td>10859</td>\n",
       "      <td>474763</td>\n",
       "      <td>0</td>\n",
       "      <td>1.00</td>\n",
       "      <td>0.00</td>\n",
       "      <td>0.60</td>\n",
       "      <td>0.60</td>\n",
       "      <td>Viral</td>\n",
       "    </tr>\n",
       "    <tr>\n",
       "      <th>1936914</th>\n",
       "      <td>MSM6J2LR_474767</td>\n",
       "      <td>1</td>\n",
       "      <td>25015</td>\n",
       "      <td>474767</td>\n",
       "      <td>0</td>\n",
       "      <td>4.00</td>\n",
       "      <td>0.00</td>\n",
       "      <td>0.71</td>\n",
       "      <td>0.71</td>\n",
       "      <td>Viral</td>\n",
       "    </tr>\n",
       "    <tr>\n",
       "      <th>1936917</th>\n",
       "      <td>ESM718V8_474771</td>\n",
       "      <td>1</td>\n",
       "      <td>6349</td>\n",
       "      <td>474771</td>\n",
       "      <td>0</td>\n",
       "      <td>2.00</td>\n",
       "      <td>0.00</td>\n",
       "      <td>0.31</td>\n",
       "      <td>0.31</td>\n",
       "      <td>Viral</td>\n",
       "    </tr>\n",
       "    <tr>\n",
       "      <th>1936918</th>\n",
       "      <td>MSM79HF5_474773</td>\n",
       "      <td>1</td>\n",
       "      <td>12102</td>\n",
       "      <td>474773</td>\n",
       "      <td>0</td>\n",
       "      <td>5.00</td>\n",
       "      <td>0.00</td>\n",
       "      <td>0.87</td>\n",
       "      <td>0.87</td>\n",
       "      <td>Viral</td>\n",
       "    </tr>\n",
       "    <tr>\n",
       "      <th>1936926</th>\n",
       "      <td>HSMA33IG_474784</td>\n",
       "      <td>1</td>\n",
       "      <td>4552</td>\n",
       "      <td>474784</td>\n",
       "      <td>0</td>\n",
       "      <td>1.00</td>\n",
       "      <td>0.00</td>\n",
       "      <td>0.42</td>\n",
       "      <td>0.42</td>\n",
       "      <td>Viral</td>\n",
       "    </tr>\n",
       "    <tr>\n",
       "      <th>1936929</th>\n",
       "      <td>HSMA33SI_474789</td>\n",
       "      <td>1</td>\n",
       "      <td>40152</td>\n",
       "      <td>474789</td>\n",
       "      <td>0</td>\n",
       "      <td>6.00</td>\n",
       "      <td>0.00</td>\n",
       "      <td>0.54</td>\n",
       "      <td>0.54</td>\n",
       "      <td>Viral</td>\n",
       "    </tr>\n",
       "    <tr>\n",
       "      <th>1936930</th>\n",
       "      <td>MSMA267V_474790</td>\n",
       "      <td>1</td>\n",
       "      <td>10885</td>\n",
       "      <td>474790</td>\n",
       "      <td>0</td>\n",
       "      <td>1.00</td>\n",
       "      <td>0.00</td>\n",
       "      <td>0.49</td>\n",
       "      <td>0.49</td>\n",
       "      <td>Viral</td>\n",
       "    </tr>\n",
       "    <tr>\n",
       "      <th>1936934</th>\n",
       "      <td>MSMA26DO_474795</td>\n",
       "      <td>1</td>\n",
       "      <td>19812</td>\n",
       "      <td>474795</td>\n",
       "      <td>0</td>\n",
       "      <td>1.00</td>\n",
       "      <td>0.00</td>\n",
       "      <td>0.72</td>\n",
       "      <td>0.72</td>\n",
       "      <td>Viral</td>\n",
       "    </tr>\n",
       "    <tr>\n",
       "      <th>1936939</th>\n",
       "      <td>MSM9VZLJ_474804</td>\n",
       "      <td>1</td>\n",
       "      <td>12917</td>\n",
       "      <td>474804</td>\n",
       "      <td>0</td>\n",
       "      <td>1.00</td>\n",
       "      <td>0.00</td>\n",
       "      <td>0.47</td>\n",
       "      <td>0.47</td>\n",
       "      <td>Viral</td>\n",
       "    </tr>\n",
       "    <tr>\n",
       "      <th>1936942</th>\n",
       "      <td>MSM79H89_474807</td>\n",
       "      <td>1</td>\n",
       "      <td>3859</td>\n",
       "      <td>474807</td>\n",
       "      <td>0</td>\n",
       "      <td>1.00</td>\n",
       "      <td>0.00</td>\n",
       "      <td>0.40</td>\n",
       "      <td>0.40</td>\n",
       "      <td>Viral</td>\n",
       "    </tr>\n",
       "    <tr>\n",
       "      <th>1936946</th>\n",
       "      <td>PSM7J158_474811</td>\n",
       "      <td>1</td>\n",
       "      <td>2959</td>\n",
       "      <td>474811</td>\n",
       "      <td>0</td>\n",
       "      <td>1.00</td>\n",
       "      <td>0.00</td>\n",
       "      <td>0.47</td>\n",
       "      <td>0.47</td>\n",
       "      <td>Viral</td>\n",
       "    </tr>\n",
       "    <tr>\n",
       "      <th>1936948</th>\n",
       "      <td>HSM7J4IU_474814</td>\n",
       "      <td>1</td>\n",
       "      <td>4119</td>\n",
       "      <td>474814</td>\n",
       "      <td>0</td>\n",
       "      <td>1.00</td>\n",
       "      <td>0.00</td>\n",
       "      <td>0.63</td>\n",
       "      <td>0.63</td>\n",
       "      <td>Viral</td>\n",
       "    </tr>\n",
       "    <tr>\n",
       "      <th>1936954</th>\n",
       "      <td>HSM6XRUV_474821</td>\n",
       "      <td>1</td>\n",
       "      <td>4858</td>\n",
       "      <td>474821</td>\n",
       "      <td>0</td>\n",
       "      <td>2.00</td>\n",
       "      <td>0.00</td>\n",
       "      <td>0.36</td>\n",
       "      <td>0.36</td>\n",
       "      <td>Viral</td>\n",
       "    </tr>\n",
       "  </tbody>\n",
       "</table>\n",
       "<p>482335 rows × 10 columns</p>\n",
       "</div>"
      ],
      "text/plain": [
       "                   binid  ncontigs  binsize  motherbin  nhallm  nVOGs  \\\n",
       "1             MSM79H9Q_2         1     3669          2       0   3.00   \n",
       "188           PSM6XBSA_8         1     2713          8       0   1.00   \n",
       "2794         HSM7J4NS_34         1     3036         34       0   1.00   \n",
       "3007         CSM79HMN_38         8    26210         38       1   1.75   \n",
       "3009         CSM79HOX_38        11    57991         38       1   3.09   \n",
       "3010         PSMA2653_38         9    28917         38       1   2.22   \n",
       "3011         MSMAPC6G_38         4    62783         38       1   9.50   \n",
       "3012         PSMA267D_38         4    54339         38       1   8.75   \n",
       "3013         CSM79HP2_38         3    60888         38       1  12.33   \n",
       "3014         MSM9VZIY_38         7    60244         38       1   5.14   \n",
       "3015         MSMB4LZ8_38        11    34885         38       1   2.00   \n",
       "3016         MSM9VZGU_38        15    48044         38       1   1.93   \n",
       "3017         CSM5MCX3_38        11    35458         38       1   2.09   \n",
       "3018         HSM7J4NM_38         9    24116         38       1   1.67   \n",
       "3019         MSM9VZLT_38         4    11900         38       1   2.00   \n",
       "3020         CSM7KOPE_38         7    59997         38       1   5.00   \n",
       "3021         HSM7J4NS_38         5    14525         38       1   1.80   \n",
       "3022         HSM7CYX4_38        16    56621         38       1   2.31   \n",
       "3023         CSM79HMT_38         9    53596         38       1   3.78   \n",
       "3024         HSM7J4K2_38         4    15615         38       1   2.50   \n",
       "3025         CSM79HHA_38        11    52403         38       1   3.00   \n",
       "3026         MSM6J2IO_38         5    58931         38       1   7.40   \n",
       "3027         CSM67UFV_38        12    46209         38       1   2.25   \n",
       "3028         MSM9VZPT_38         6    60530         38       1   6.17   \n",
       "3029         MSM6J2IM_38         9    59267         38       1   4.11   \n",
       "3030         CSM7KOTC_38        10    35101         38       1   2.00   \n",
       "3031         MSMA26DI_38        10    59378         38       1   2.70   \n",
       "3032         MSM9VZL5_38        10    38565         38       1   2.50   \n",
       "3033         MSM79H63_38        10    39816         38       1   2.40   \n",
       "3034         PSM7J13K_38        10    54141         38       1   3.50   \n",
       "...                  ...       ...      ...        ...     ...    ...   \n",
       "1936836  PSM7J19B_474637         1     4151     474637       0   1.00   \n",
       "1936839  CSMAHYLR_474641         1     4484     474641       0   1.00   \n",
       "1936849  CSM7KOTU_474659         1    12506     474659       0   7.00   \n",
       "1936852  ESM5MEDF_474664         1     3385     474664       0   1.00   \n",
       "1936854  MSM79H98_474668         1     9910     474668       0   1.00   \n",
       "1936875  CSM7KOK5_474702         1     6140     474702       0   2.00   \n",
       "1936878  MSM6J2M3_474707         1     3785     474707       2   2.00   \n",
       "1936883  HSMA33KE_474716         1    21713     474716       0   3.00   \n",
       "1936887  PSM6XBTT_474721         1     2550     474721       0   1.00   \n",
       "1936888  CSM9X23H_474724         1     5689     474724       0   3.00   \n",
       "1936892  CSM7KOLA_474732         1     2814     474732       0   1.00   \n",
       "1936893  HSM67VDP_474734         1     3509     474734       0   8.00   \n",
       "1936896  CSM67UBX_474739         1     2606     474739       0   1.00   \n",
       "1936898  PSM7J14L_474742         1     2583     474742       0   2.00   \n",
       "1936900  PSM6XBSS_474746         1     4378     474746       0   1.00   \n",
       "1936902  HSM7CYXO_474748         1    20646     474748       0   1.00   \n",
       "1936903  CSM7KOKN_474749         1     7434     474749       0   1.00   \n",
       "1936910  MSM9VZMO_474763         1    10859     474763       0   1.00   \n",
       "1936914  MSM6J2LR_474767         1    25015     474767       0   4.00   \n",
       "1936917  ESM718V8_474771         1     6349     474771       0   2.00   \n",
       "1936918  MSM79HF5_474773         1    12102     474773       0   5.00   \n",
       "1936926  HSMA33IG_474784         1     4552     474784       0   1.00   \n",
       "1936929  HSMA33SI_474789         1    40152     474789       0   6.00   \n",
       "1936930  MSMA267V_474790         1    10885     474790       0   1.00   \n",
       "1936934  MSMA26DO_474795         1    19812     474795       0   1.00   \n",
       "1936939  MSM9VZLJ_474804         1    12917     474804       0   1.00   \n",
       "1936942  MSM79H89_474807         1     3859     474807       0   1.00   \n",
       "1936946  PSM7J158_474811         1     2959     474811       0   1.00   \n",
       "1936948  HSM7J4IU_474814         1     4119     474814       0   1.00   \n",
       "1936954  HSM6XRUV_474821         1     4858     474821       0   2.00   \n",
       "\n",
       "         IMGVRhits_frac  bin_DVF_score  cluster_DVF_score Prediction  \n",
       "1                  0.00           0.45               0.45      Viral  \n",
       "188                0.00           0.74               0.74      Viral  \n",
       "2794               0.00           0.75               0.75      Viral  \n",
       "3007               0.12           0.87               0.99      Viral  \n",
       "3009               0.27           0.99               0.99      Viral  \n",
       "3010               0.11           0.99               0.99      Viral  \n",
       "3011               0.50           1.00               0.99      Viral  \n",
       "3012               0.75           1.00               0.99      Viral  \n",
       "3013               0.67           1.00               0.99      Viral  \n",
       "3014               0.57           1.00               0.99      Viral  \n",
       "3015               0.18           1.00               0.99      Viral  \n",
       "3016               0.13           0.98               0.99      Viral  \n",
       "3017               0.18           0.99               0.99      Viral  \n",
       "3018               0.11           0.99               0.99      Viral  \n",
       "3019               0.25           0.99               0.99      Viral  \n",
       "3020               0.43           1.00               0.99      Viral  \n",
       "3021               0.20           1.00               0.99      Viral  \n",
       "3022               0.19           0.95               0.99      Viral  \n",
       "3023               0.33           1.00               0.99      Viral  \n",
       "3024               0.50           0.99               0.99      Viral  \n",
       "3025               0.18           1.00               0.99      Viral  \n",
       "3026               0.80           1.00               0.99      Viral  \n",
       "3027               0.08           0.99               0.99      Viral  \n",
       "3028               0.50           1.00               0.99      Viral  \n",
       "3029               0.33           1.00               0.99      Viral  \n",
       "3030               0.40           1.00               0.99      Viral  \n",
       "3031               0.30           1.00               0.99      Viral  \n",
       "3032               0.30           0.99               0.99      Viral  \n",
       "3033               0.30           1.00               0.99      Viral  \n",
       "3034               0.40           0.99               0.99      Viral  \n",
       "...                 ...            ...                ...        ...  \n",
       "1936836            0.00           0.55               0.55      Viral  \n",
       "1936839            0.00           1.00               1.00      Viral  \n",
       "1936849            0.00           0.45               0.45      Viral  \n",
       "1936852            0.00           0.46               0.46      Viral  \n",
       "1936854            0.00           0.87               0.87      Viral  \n",
       "1936875            0.00           0.44               0.44      Viral  \n",
       "1936878            0.00           0.45               0.45      Viral  \n",
       "1936883            0.00           0.45               0.45      Viral  \n",
       "1936887            0.00           0.61               0.61      Viral  \n",
       "1936888            0.00           0.88               0.88      Viral  \n",
       "1936892            0.00           1.00               1.00      Viral  \n",
       "1936893            0.00           1.00               1.00      Viral  \n",
       "1936896            0.00           0.67               0.67      Viral  \n",
       "1936898            0.00           0.94               0.94      Viral  \n",
       "1936900            0.00           0.47               0.47      Viral  \n",
       "1936902            0.00           0.59               0.59      Viral  \n",
       "1936903            0.00           0.96               0.96      Viral  \n",
       "1936910            0.00           0.60               0.60      Viral  \n",
       "1936914            0.00           0.71               0.71      Viral  \n",
       "1936917            0.00           0.31               0.31      Viral  \n",
       "1936918            0.00           0.87               0.87      Viral  \n",
       "1936926            0.00           0.42               0.42      Viral  \n",
       "1936929            0.00           0.54               0.54      Viral  \n",
       "1936930            0.00           0.49               0.49      Viral  \n",
       "1936934            0.00           0.72               0.72      Viral  \n",
       "1936939            0.00           0.47               0.47      Viral  \n",
       "1936942            0.00           0.40               0.40      Viral  \n",
       "1936946            0.00           0.47               0.47      Viral  \n",
       "1936948            0.00           0.63               0.63      Viral  \n",
       "1936954            0.00           0.36               0.36      Viral  \n",
       "\n",
       "[482335 rows x 10 columns]"
      ]
     },
     "execution_count": 300,
     "metadata": {},
     "output_type": "execute_result"
    }
   ],
   "source": [
    "p"
   ]
  },
  {
   "cell_type": "code",
   "execution_count": null,
   "metadata": {},
   "outputs": [],
   "source": []
  }
 ],
 "metadata": {
  "kernelspec": {
   "display_name": "Python 3",
   "language": "python",
   "name": "python3"
  },
  "language_info": {
   "codemirror_mode": {
    "name": "ipython",
    "version": 3
   },
   "file_extension": ".py",
   "mimetype": "text/x-python",
   "name": "python",
   "nbconvert_exporter": "python",
   "pygments_lexer": "ipython3",
   "version": "3.8.5"
  }
 },
 "nbformat": 4,
 "nbformat_minor": 2
}
